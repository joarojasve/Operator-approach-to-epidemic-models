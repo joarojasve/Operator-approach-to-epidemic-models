{
 "cells": [
  {
   "cell_type": "code",
   "execution_count": 1,
   "id": "588f111e",
   "metadata": {},
   "outputs": [],
   "source": [
    "import math as ma\n",
    "import numpy as np\n",
    "import pylab as plt\n",
    "import seaborn as sns\n",
    "from matplotlib.colors import LogNorm\n",
    "import pandas as pd\n",
    "from scipy.integrate import odeint"
   ]
  },
  {
   "cell_type": "code",
   "execution_count": 2,
   "id": "88e396c6",
   "metadata": {},
   "outputs": [],
   "source": [
    "def Rate_generator(IS,M,beta,gamma,mu,N,nnodos,tau):\n",
    "    nreacciones=3*len(M)+2*nnodos\n",
    "    Rate=np.zeros((nreacciones))\n",
    "    #Rates for reactions in nodes\n",
    "    for i in range(nnodos):\n",
    "        Rate[2*i] = beta*IS[3*i]*IS[3*i+1]/N # infection\n",
    "        Rate[2*i+1] = gamma*IS[3*i+1] # recovery\n",
    "    # Rates for migration\n",
    "    base=int(2*nnodos)\n",
    "    for j in range(len(M)):\n",
    "        Rate[base+3*j]=mu*IS[3*M[j][0]] # migration of susceptibles\n",
    "        Rate[base+3*j+1]=mu*IS[3*M[j][0]+1] # migration of infectious\n",
    "        Rate[base+3*j+2]=mu*IS[3*M[j][0]+2] # migration of recovered\n",
    "    return Rate\n",
    "# order is [infection_node1,recovery_node1,infection_node2,recovery_node2,...,infection_nodef,recovery_nodef,\n",
    "# migration1susceptible,migration1infectious,migration1recovered,migration2susceptible,...,migrationMrecovered]"
   ]
  },
  {
   "cell_type": "code",
   "execution_count": 4,
   "id": "43c187f7",
   "metadata": {},
   "outputs": [
    {
     "data": {
      "text/plain": [
       "array([ 0.33      ,  0.5       ,  0.33333333,  0.5       ,  0.33333333,\n",
       "        0.5       ,  9.9       ,  0.1       ,  0.1       , 10.        ,\n",
       "        0.1       ,  0.1       , 10.        ,  0.1       ,  0.1       ,\n",
       "       10.        ,  0.1       ,  0.1       ])"
      ]
     },
     "execution_count": 4,
     "metadata": {},
     "output_type": "execute_result"
    }
   ],
   "source": [
    "IS = np.array([99,1,1,100,1,1,100,1,1])\n",
    "M=[[0,1],[1,2],[1,0],[2,1]]\n",
    "beta=1.0\n",
    "gamma=0.5\n",
    "mu=0.1\n",
    "N=300\n",
    "nnodos=3\n",
    "tau=0.1\n",
    "Rate_generator(IS,M,beta,gamma,mu,N,nnodos,tau)"
   ]
  },
  {
   "cell_type": "code",
   "execution_count": 11,
   "id": "6dee14e6",
   "metadata": {},
   "outputs": [],
   "source": [
    "base_vector_infection=np.array([-1,1,0])\n",
    "nreacciones=3*len(M)+2*nnodos\n",
    "pop_vector=100*np.ones((nreacciones))\n",
    "\n",
    "change_vecs=[]\n",
    "posis_infections=np.arange(0,3*nnodos,3)\n",
    "posis_infections\n",
    "for k in range(nnodos):\n",
    "    change_inf_vector=np.zeros((nreacciones))\n",
    "    for i in range(nreacciones):\n",
    "        if i in posis_infections:\n",
    "            for j in range(3):\n",
    "                change_inf_vector[i+j]=base_vector_infection[j]\n",
    "    change_vecs.append(change_inf_vector)\n"
   ]
  },
  {
   "cell_type": "code",
   "execution_count": 2,
   "id": "756a7aaa",
   "metadata": {},
   "outputs": [],
   "source": [
    "def find(condition):\n",
    "    res, = np.nonzero(np.ravel(condition))\n",
    "    return res\n",
    "def pos_generator(size,node_change,position):\n",
    "    ch=np.zeros((size))\n",
    "    \n",
    "\n",
    "def Change_generator(IS,M,beta,gamma,mu,N,nnodos,tau):\n",
    "    nreacciones=3*len(M)+2*nnodos\n",
    "    Change=np.zeros((nreacciones,len(V)))\n",
    "    \n",
    "    #Changes for reaction inside nodes\n",
    "    for i in range(nnodos):\n",
    "        Change[2*i,:]=\n",
    "    \n",
    "def stoc_eqs(INP,beta,gamma,N,nreacciones,tau): \n",
    "    V = INP\n",
    "    Rate=np.zeros((nreacciones))\n",
    "    Change=np.zeros((nreacciones,len(V)))\n",
    "    Rate[0] = beta*V[0]*V[1]/N; Change[0,:]=([-1, +1, 0])\n",
    "    Rate[1] = gamma*V[1];  Change[1,:]=([0, -1, +1])\n",
    "    for i in range(nreacciones):\n",
    "        K_i=np.random.poisson(Rate[i]*tau)\n",
    "        K_i=min([K_i, V[find(Change[i,:]<0)]])\n",
    "        V=V+Change[i,:]*K_i\n",
    "    return V\n",
    "\n",
    "def Stoch_Iteration(INPUT,beta,gamma,N,nreacciones,T,tau):\n",
    "    lop=0\n",
    "    S=[]\n",
    "    I=[]\n",
    "    R=[]\n",
    "    SI=[]\n",
    "    for lop in T:\n",
    "        res = stoc_eqs(INPUT,beta,gamma,N,nreacciones,tau)\n",
    "        S.append(INPUT[0])\n",
    "        I.append(INPUT[1])\n",
    "        R.append(INPUT[2])\n",
    "        if INPUT[1]==0:\n",
    "            break\n",
    "        INPUT=res\n",
    "    return S,I,R\n",
    "def one_trajectory(S0,I0,R0,beta,gamma,N,nreacciones,Tmax,tau):\n",
    "    INPUT = np.array((S0,I0,R0))\n",
    "    T=np.arange(0.0, Tmax, tau)\n",
    "    [S,I,R]=Stoch_Iteration(INPUT,beta,gamma,N,nreacciones,T,tau)\n",
    "    return R[-1]\n",
    "\n",
    "def R_inf_dist(nsims,S0,I0,R0,beta,gamma,popsize,nreacciones,Tmax,tau):\n",
    "    T=np.arange(0.0, Tmax, tau)\n",
    "    matrs=[0.0 for i in range(popsize+1)]\n",
    "    n=[]\n",
    "    for l in range(nsims):\n",
    "        Ri=one_trajectory(S0,I0,R0,beta,gamma,popsize,nreacciones,Tmax,tau)\n",
    "        matrs[int(Ri)]+=1\n",
    "        n.append(Ri)\n",
    "        #if l%500==0:\n",
    "        #    print(l)\n",
    "    return n"
   ]
  },
  {
   "cell_type": "code",
   "execution_count": 3,
   "id": "b113622d",
   "metadata": {},
   "outputs": [],
   "source": [
    "nsims=2000\n",
    "I0=2\n",
    "R0=0\n",
    "N=1000\n",
    "S0=N-I0\n",
    "beta=2.0\n",
    "gamma=1.0\n",
    "nreacciones=2\n",
    "Tmax=100\n",
    "tau=0.05"
   ]
  },
  {
   "cell_type": "code",
   "execution_count": 4,
   "id": "33734f4a",
   "metadata": {},
   "outputs": [],
   "source": [
    "a=R_inf_dist(nsims,S0,I0,R0,beta,gamma,N,nreacciones,Tmax,tau)"
   ]
  },
  {
   "cell_type": "code",
   "execution_count": 5,
   "id": "0ea9024c",
   "metadata": {},
   "outputs": [],
   "source": [
    "def umbral_AR(umbral,AR):\n",
    "    ARsn=[n for n in AR if n<umbral]\n",
    "    return len(ARsn)/len(AR)\n"
   ]
  },
  {
   "cell_type": "code",
   "execution_count": null,
   "id": "a6cedf59",
   "metadata": {},
   "outputs": [],
   "source": [
    "\n",
    "betas=[0.5+0.1*i for i in range(30)]\n",
    "I0s = [1,2,4]\n",
    "rets=[]\n",
    "for i in range(len(betas)):\n",
    "    aux=R_inf_dist(nsims,S0,I0,R0,betas[i],gamma,N,nreacciones,Tmax,tau)\n",
    "    aux_u=umbral_AR(0.05*N+I0,aux)\n",
    "    print(i)\n",
    "    rets.append(aux_u)"
   ]
  },
  {
   "cell_type": "code",
   "execution_count": 8,
   "id": "705ebba9",
   "metadata": {},
   "outputs": [
    {
     "data": {
      "image/png": "[encoded data removed]",
      "text/plain": [
       "<Figure size 432x288 with 1 Axes>"
      ]
     },
     "metadata": {
      "needs_background": "light"
     },
     "output_type": "display_data"
    }
   ],
   "source": [
    "plt.scatter(betas,rets,c=\"darkred\",s=10, label=\"Simulations\")\n",
    "ret_T=[1 if betas[i]<1 else (1/betas[i])**I0 for i in range(len(betas))]\n",
    "plt.plot(betas,ret_T,color=\"black\",lw=1,label=\"Whittle (1955)\")\n",
    "plt.xlabel(r\"$\\mathcal{R}_0$\")\n",
    "plt.ylabel(\"Probability of no outbreak\")\n",
    "plt.title(\"$I_0=2$\")\n",
    "plt.legend()\n",
    "plt.yscale(\"log\")\n",
    "plt.xscale(\"log\")\n",
    "plt.show()"
   ]
  },
  {
   "cell_type": "code",
   "execution_count": 12,
   "id": "bb704a6d",
   "metadata": {},
   "outputs": [
    {
     "name": "stdout",
     "output_type": "stream",
     "text": [
      "1\n",
      "0\n",
      "1\n",
      "2\n",
      "3\n",
      "4\n",
      "5\n",
      "6\n",
      "7\n",
      "8\n",
      "9\n",
      "10\n",
      "11\n",
      "12\n",
      "13\n",
      "14\n",
      "15\n",
      "16\n",
      "17\n",
      "18\n",
      "19\n",
      "20\n",
      "21\n",
      "22\n",
      "23\n",
      "24\n",
      "25\n",
      "26\n",
      "27\n",
      "28\n",
      "29\n",
      "2\n",
      "0\n",
      "1\n",
      "2\n",
      "3\n",
      "4\n",
      "5\n",
      "6\n",
      "7\n",
      "8\n",
      "9\n",
      "10\n",
      "11\n",
      "12\n",
      "13\n",
      "14\n",
      "15\n",
      "16\n",
      "17\n",
      "18\n",
      "19\n",
      "20\n",
      "21\n",
      "22\n",
      "23\n",
      "24\n",
      "25\n",
      "26\n",
      "27\n",
      "28\n",
      "29\n",
      "4\n",
      "0\n",
      "1\n",
      "2\n",
      "3\n",
      "4\n",
      "5\n",
      "6\n",
      "7\n",
      "8\n",
      "9\n",
      "10\n",
      "11\n",
      "12\n",
      "13\n",
      "14\n",
      "15\n",
      "16\n",
      "17\n",
      "18\n",
      "19\n",
      "20\n",
      "21\n",
      "22\n",
      "23\n",
      "24\n",
      "25\n",
      "26\n",
      "27\n",
      "28\n",
      "29\n",
      "8\n",
      "0\n",
      "1\n",
      "2\n",
      "3\n",
      "4\n",
      "5\n",
      "6\n",
      "7\n",
      "8\n",
      "9\n",
      "10\n",
      "11\n",
      "12\n",
      "13\n",
      "14\n",
      "15\n",
      "16\n",
      "17\n",
      "18\n",
      "19\n",
      "20\n",
      "21\n",
      "22\n",
      "23\n",
      "24\n",
      "25\n",
      "26\n",
      "27\n",
      "28\n",
      "29\n"
     ]
    }
   ],
   "source": [
    "betas=[0.5+0.1*i for i in range(30)]\n",
    "I0s = [1,2,4,8]\n",
    "PNOs=[]\n",
    "for j in range(len(I0s)):\n",
    "    ret_s=[]\n",
    "    print(I0s[j])\n",
    "    for i in range(len(betas)):\n",
    "        aux=R_inf_dist(nsims,S0,I0s[j],R0,betas[i],gamma,N,nreacciones,Tmax,tau)\n",
    "        aux_u=umbral_AR(0.05*N+I0s[j],aux)\n",
    "        print(i)\n",
    "        ret_s.append(aux_u)\n",
    "    PNOs.append(ret_s)\n"
   ]
  },
  {
   "cell_type": "code",
   "execution_count": 36,
   "id": "97790dc2",
   "metadata": {},
   "outputs": [
    {
     "data": {
      "image/png": "[encoded data removed]",
      "text/plain": [
       "<Figure size 432x288 with 1 Axes>"
      ]
     },
     "metadata": {
      "needs_background": "light"
     },
     "output_type": "display_data"
    }
   ],
   "source": [
    "clist=[\"darkred\",\"coral\",\"olive\",\"cadetblue\"]\n",
    "for i in range(4):\n",
    "    plt.scatter(betas,PNOs[i],c=clist[i],label=\"$I_0=$\"+str(I0s[i]))\n",
    "    ret_aux=[1 if betas[k]<1 else (1/betas[k])**I0s[i] for k in range(len(betas))]\n",
    "    if i==0:\n",
    "        plt.plot(betas,ret_aux,\"--\",c=\"black\",label=\"Whittle (1955)\")\n",
    "    plt.plot(betas,ret_aux,\"--\",c=clist[i])\n",
    "\n",
    "plt.xlabel(r\"$\\mathcal{R}_0$\")\n",
    "plt.ylabel(\"Probability of no outbreak\")\n",
    "plt.legend()\n",
    "plt.yscale(\"log\")\n",
    "plt.xscale(\"log\")\n",
    "plt.show()"
   ]
  },
  {
   "cell_type": "code",
   "execution_count": null,
   "id": "ab3ee16a",
   "metadata": {},
   "outputs": [],
   "source": []
  }
 ],
 "metadata": {
  "kernelspec": {
   "display_name": "Python 3 (ipykernel)",
   "language": "python",
   "name": "python3"
  },
  "language_info": {
   "codemirror_mode": {
    "name": "ipython",
    "version": 3
   },
   "file_extension": ".py",
   "mimetype": "text/x-python",
   "name": "python",
   "nbconvert_exporter": "python",
   "pygments_lexer": "ipython3",
   "version": "3.9.7"
  }
 },
 "nbformat": 4,
 "nbformat_minor": 5
}
