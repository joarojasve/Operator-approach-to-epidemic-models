{
 "cells": [
  {
   "cell_type": "code",
   "execution_count": 1,
   "id": "588f111e",
   "metadata": {},
   "outputs": [],
   "source": [
    "import math as ma\n",
    "import numpy as np\n",
    "import pylab as plt\n",
    "import seaborn as sns\n",
    "from matplotlib.colors import LogNorm\n",
    "import pandas as pd\n",
    "from scipy.integrate import odeint"
   ]
  },
  {
   "cell_type": "code",
   "execution_count": 2,
   "id": "756a7aaa",
   "metadata": {},
   "outputs": [],
   "source": [
    "def find(condition):\n",
    "    res, = np.nonzero(np.ravel(condition))\n",
    "    return res\n",
    "    \n",
    "def stoc_eqs(INP,beta,gamma,N,nreacciones,tau): \n",
    "    V = INP\n",
    "    Rate=np.zeros((nreacciones))\n",
    "    Change=np.zeros((nreacciones,len(V)))\n",
    "    N=V[0]+V[1]+V[2]\n",
    "    Rate[0] = beta*V[0]*V[1]/N; Change[0,:]=([-1, +1, 0])\n",
    "    Rate[1] = gamma*V[1];  Change[1,:]=([0, -1, +1])\n",
    "    for i in range(nreacciones):\n",
    "        K_i=np.random.poisson(Rate[i]*tau)\n",
    "        K_i=min([K_i, V[find(Change[i,:]<0)]])\n",
    "        V=V+Change[i,:]*K_i\n",
    "    return V\n",
    "\n",
    "def Stoch_Iteration(INPUT,beta,gamma,N,nreacciones,T,tau):\n",
    "    lop=0\n",
    "    S=[]\n",
    "    I=[]\n",
    "    R=[]\n",
    "    SI=[]\n",
    "    for lop in T:\n",
    "        res = stoc_eqs(INPUT,beta,gamma,N,nreacciones,tau)\n",
    "        S.append(INPUT[0])\n",
    "        I.append(INPUT[1])\n",
    "        R.append(INPUT[2])\n",
    "        if INPUT[1]==0:\n",
    "            break\n",
    "        INPUT=res\n",
    "    return S,I,R\n",
    "def one_trajectory(S0,I0,R0,beta,gamma,N,nreacciones,Tmax,tau):\n",
    "    INPUT = np.array((S0,I0,R0))\n",
    "    T=np.arange(0.0, Tmax, tau)\n",
    "    [S,I,R]=Stoch_Iteration(INPUT,beta,gamma,N,nreacciones,T,tau)\n",
    "    return R[-1]\n",
    "\n",
    "def R_inf_dist(nsims,S0,I0,R0,beta,gamma,popsize,nreacciones,Tmax,tau):\n",
    "    T=np.arange(0.0, Tmax, tau)\n",
    "    matrs=[0.0 for i in range(popsize+1)]\n",
    "    n=[]\n",
    "    for l in range(nsims):\n",
    "        Ri=one_trajectory(S0,I0,R0,beta,gamma,popsize,nreacciones,Tmax,tau)\n",
    "        matrs[int(Ri)]+=1\n",
    "        n.append(Ri)\n",
    "        #if l%500==0:\n",
    "        #    print(l)\n",
    "    return n"
   ]
  },
  {
   "cell_type": "code",
   "execution_count": 11,
   "id": "b113622d",
   "metadata": {},
   "outputs": [],
   "source": [
    "nsims=2000\n",
    "I0=2\n",
    "R0=0\n",
    "N=100000\n",
    "S0=N-I0\n",
    "beta=2.0\n",
    "gamma=1.0\n",
    "nreacciones=2\n",
    "Tmax=200\n",
    "tau=0.05"
   ]
  },
  {
   "cell_type": "code",
   "execution_count": null,
   "id": "33734f4a",
   "metadata": {},
   "outputs": [],
   "source": [
    "a=R_inf_dist(nsims,S0,I0,R0,beta,gamma,N,nreacciones,Tmax,tau)"
   ]
  },
  {
   "cell_type": "code",
   "execution_count": 4,
   "id": "0ea9024c",
   "metadata": {},
   "outputs": [],
   "source": [
    "def umbral_AR(umbral,AR):\n",
    "    ARsn=[n for n in AR if n<umbral]\n",
    "    return len(ARsn)/len(AR)\n"
   ]
  },
  {
   "cell_type": "code",
   "execution_count": null,
   "id": "a6cedf59",
   "metadata": {},
   "outputs": [],
   "source": [
    "\n",
    "betas=[0.5+0.1*i for i in range(30)]\n",
    "I0s = [1,2,4]\n",
    "rets=[]\n",
    "\n",
    "for i in range(len(betas)):\n",
    "    aux=R_inf_dist(nsims,S0,I0,R0,betas[i],gamma,N,nreacciones,Tmax,tau)\n",
    "    aux_u=umbral_AR(0.05*N+I0,aux)\n",
    "    print(i)\n",
    "    rets.append(aux_u)"
   ]
  },
  {
   "cell_type": "code",
   "execution_count": null,
   "id": "705ebba9",
   "metadata": {},
   "outputs": [],
   "source": [
    "plt.scatter(betas,rets,c=\"darkred\",s=10, label=\"Simulations\")\n",
    "ret_T=[1 if betas[i]<1 else (1/betas[i])**I0 for i in range(len(betas))]\n",
    "plt.plot(betas,ret_T,color=\"black\",lw=1,label=\"Whittle (1955)\")\n",
    "plt.xlabel(r\"$\\mathcal{R}_0$\")\n",
    "plt.ylabel(\"Probability of no outbreak\")\n",
    "plt.title(\"$I_0=2$\")\n",
    "plt.legend()\n",
    "plt.yscale(\"log\")\n",
    "plt.xscale(\"log\")\n",
    "plt.show()"
   ]
  },
  {
   "cell_type": "code",
   "execution_count": null,
   "id": "bb704a6d",
   "metadata": {},
   "outputs": [],
   "source": [
    "betas=[0.5+0.1*i for i in range(30)]\n",
    "I0s = [1,2,4,8]\n",
    "PNOs=[]\n",
    "for j in range(len(I0s)):\n",
    "    ret_s=[]\n",
    "    print(I0s[j])\n",
    "    for i in range(len(betas)):\n",
    "        aux=R_inf_dist(nsims,S0,I0s[j],R0,betas[i],gamma,N,nreacciones,Tmax,tau)\n",
    "        aux_u=umbral_AR(0.05*N+I0s[j],aux)\n",
    "        print(i)\n",
    "        ret_s.append(aux_u)\n",
    "    PNOs.append(ret_s)\n"
   ]
  },
  {
   "cell_type": "code",
   "execution_count": null,
   "id": "97790dc2",
   "metadata": {},
   "outputs": [],
   "source": [
    "clist=[\"darkred\",\"coral\",\"olive\",\"cadetblue\"]\n",
    "for i in range(4):\n",
    "    plt.scatter(betas,PNOs[i],c=clist[i],label=\"$I_0=$\"+str(I0s[i]))\n",
    "    ret_aux=[1 if betas[k]<1 else (1/betas[k])**I0s[i] for k in range(len(betas))]\n",
    "    if i==0:\n",
    "        plt.plot(betas,ret_aux,\"--\",c=\"black\",label=\"Whittle (1955)\")\n",
    "    plt.plot(betas,ret_aux,\"--\",c=clist[i])\n",
    "\n",
    "plt.xlabel(r\"$\\mathcal{R}_0$\")\n",
    "plt.ylabel(\"Probability of no outbreak\")\n",
    "plt.legend()\n",
    "plt.yscale(\"log\")\n",
    "plt.xscale(\"log\")\n",
    "plt.show()"
   ]
  },
  {
   "cell_type": "markdown",
   "id": "b79da90f",
   "metadata": {},
   "source": [
    "# Treshold guided by deterministic final size instead of population"
   ]
  },
  {
   "cell_type": "code",
   "execution_count": 12,
   "id": "ab3ee16a",
   "metadata": {},
   "outputs": [
    {
     "data": {
      "text/plain": [
       "[<matplotlib.lines.Line2D at 0x1d503ee7bb0>]"
      ]
     },
     "execution_count": 12,
     "metadata": {},
     "output_type": "execute_result"
    },
    {
     "data": {
      "image/png": "[encoded data removed]",
      "text/plain": [
       "<Figure size 432x288 with 1 Axes>"
      ]
     },
     "metadata": {
      "needs_background": "light"
     },
     "output_type": "display_data"
    }
   ],
   "source": [
    "\n",
    "def deriv(y, t, N, beta, gamma):\n",
    "    S, I, R = y\n",
    "    dSdt = -beta * S * I / N \n",
    "    dIdt = beta * S * I / N - gamma * I\n",
    "    dRdt = gamma * I \n",
    "    return dSdt, dIdt, dRdt\n",
    "def detRinf(I0,t,N,beta,gamma):\n",
    "    y0=N-I0, I0,0\n",
    "    ret = odeint(deriv, y0, t, args=(N, beta, gamma))\n",
    "    S, I, R = ret.T\n",
    "    # Plot the data on three separate curves for S(t), I(t) and R(t)\n",
    "    return R[-1]\n",
    "T=np.arange(0.0, Tmax, tau)\n",
    "vvec=[]\n",
    "betas=[0.5+0.1*i for i in range(30)]\n",
    "for i in range(len(betas)):\n",
    "    erre0=betas[i]/gamma\n",
    "    vvec.append(detRinf(I0,T,N,betas[i],gamma))\n",
    "\n",
    "plt.plot(betas,vvec)"
   ]
  },
  {
   "cell_type": "code",
   "execution_count": 17,
   "id": "0cb1e08d",
   "metadata": {},
   "outputs": [
    {
     "name": "stdout",
     "output_type": "stream",
     "text": [
      "1\n",
      "2\n",
      "4\n",
      "8\n"
     ]
    }
   ],
   "source": [
    "betas=[0.5+0.1*i for i in range(30)]\n",
    "I0s = [1,2,4,8]\n",
    "PNOs=[]\n",
    "N=100000\n",
    "for j in range(len(I0s)):\n",
    "    ret_s=[]\n",
    "    print(I0s[j])\n",
    "    for i in range(len(betas)):\n",
    "        umbral_FS=detRinf(I0,T,N,betas[i],gamma)\n",
    "        aux=R_inf_dist(2000,S0,I0s[j],R0,betas[i],gamma,N,nreacciones,Tmax,tau)\n",
    "        aux_u=umbral_AR(0.05*N+2*I0s[j],aux)\n",
    "        #print(i)\n",
    "        ret_s.append(aux_u)\n",
    "    PNOs.append(ret_s)\n"
   ]
  },
  {
   "cell_type": "code",
   "execution_count": 18,
   "id": "d577ab27",
   "metadata": {},
   "outputs": [
    {
     "data": {
      "image/png": "[encoded data removed]",
      "text/plain": [
       "<Figure size 432x288 with 1 Axes>"
      ]
     },
     "metadata": {
      "needs_background": "light"
     },
     "output_type": "display_data"
    }
   ],
   "source": [
    "clist=[\"darkred\",\"coral\",\"olive\",\"cadetblue\"]\n",
    "for i in range(4):\n",
    "    plt.scatter(betas,PNOs[i],c=clist[i],label=\"$I_0=$\"+str(I0s[i]))\n",
    "    ret_aux=[1 if betas[k]<1 else (1/betas[k])**I0s[i] for k in range(len(betas))]\n",
    "    if i==0:\n",
    "        plt.plot(betas,ret_aux,\"--\",c=\"black\",label=\"Whittle (1955)\")\n",
    "    plt.plot(betas,ret_aux,\"--\",c=clist[i])\n",
    "\n",
    "plt.xlabel(r\"$\\mathcal{R}_0$\")\n",
    "plt.ylabel(\"Probability of no outbreak\")\n",
    "plt.legend()\n",
    "plt.yscale(\"log\")\n",
    "plt.xscale(\"log\")\n",
    "plt.show()"
   ]
  },
  {
   "cell_type": "code",
   "execution_count": 2,
   "id": "6e9c0f24",
   "metadata": {},
   "outputs": [
    {
     "data": {
      "text/plain": [
       "815000"
      ]
     },
     "execution_count": 2,
     "metadata": {},
     "output_type": "execute_result"
    }
   ],
   "source": [
    "27000+567000+221000"
   ]
  },
  {
   "cell_type": "code",
   "execution_count": null,
   "id": "7bd34900",
   "metadata": {},
   "outputs": [],
   "source": []
  }
 ],
 "metadata": {
  "kernelspec": {
   "display_name": "Python 3 (ipykernel)",
   "language": "python",
   "name": "python3"
  },
  "language_info": {
   "codemirror_mode": {
    "name": "ipython",
    "version": 3
   },
   "file_extension": ".py",
   "mimetype": "text/x-python",
   "name": "python",
   "nbconvert_exporter": "python",
   "pygments_lexer": "ipython3",
   "version": "3.9.7"
  }
 },
 "nbformat": 4,
 "nbformat_minor": 5
}
